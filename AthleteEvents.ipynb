{
 "cells": [
  {
   "cell_type": "markdown",
   "source": [
    "We decided to work with 2 datasets: all info about athletes participated in Olympic Games and the second one is about the code of their regions (countries)"
   ],
   "metadata": {
    "collapsed": false
   }
  },
  {
   "cell_type": "markdown",
   "source": [
    "First, we import csv library to work with csv files:"
   ],
   "metadata": {
    "collapsed": false
   }
  },
  {
   "cell_type": "code",
   "execution_count": 1,
   "metadata": {
    "collapsed": true
   },
   "outputs": [
    {
     "name": "stdout",
     "output_type": "stream",
     "text": [
      "<class 'csv.DictReader'>\n",
      "['ID', 'Name', 'Sex', 'Age', 'Height', 'Weight', 'Team', 'NOC', 'Games', 'Year', 'Season', 'City', 'Sport', 'Event', 'Medal']\n"
     ]
    }
   ],
   "source": [
    "import csv\n",
    "with open('athlete_events.csv', 'r') as csvfile:\n",
    "    reader = csv.DictReader(csvfile)\n",
    "    print(type(reader))\n",
    "    print(reader.fieldnames) # to get column names"
   ]
  },
  {
   "cell_type": "markdown",
   "source": [
    "In order to not open the file everytime we need the data, we store the data in list:"
   ],
   "metadata": {
    "collapsed": false
   }
  },
  {
   "cell_type": "code",
   "execution_count": 2,
   "outputs": [
    {
     "name": "stdout",
     "output_type": "stream",
     "text": [
      "Number athletes: 271116\n"
     ]
    }
   ],
   "source": [
    "with(open('athlete_events.csv', 'r')) as csvfile:\n",
    "    reader = csv.DictReader(csvfile)\n",
    "    athletes = []\n",
    "    for row in reader:\n",
    "        athletes.append(row)\n",
    "    print(\"Number athletes:\", len(athletes)) # number of all participants"
   ],
   "metadata": {
    "collapsed": false
   }
  },
  {
   "cell_type": "code",
   "execution_count": 3,
   "outputs": [
    {
     "data": {
      "text/plain": "[{'ID': '1',\n  'Name': 'A Dijiang',\n  'Sex': 'M',\n  'Age': '24',\n  'Height': '180',\n  'Weight': '80',\n  'Team': 'China',\n  'NOC': 'CHN',\n  'Games': '1992 Summer',\n  'Year': '1992',\n  'Season': 'Summer',\n  'City': 'Barcelona',\n  'Sport': 'Basketball',\n  'Event': \"Basketball Men's Basketball\",\n  'Medal': 'NA'}]"
     },
     "execution_count": 3,
     "metadata": {},
     "output_type": "execute_result"
    }
   ],
   "source": [
    "athletes[:1] # example of the data of athletes"
   ],
   "metadata": {
    "collapsed": false
   }
  },
  {
   "cell_type": "markdown",
   "source": [
    "The main idea of the code below is to demonstrate the number of participants in 1976 year:"
   ],
   "metadata": {
    "collapsed": false
   }
  },
  {
   "cell_type": "code",
   "execution_count": 4,
   "outputs": [
    {
     "name": "stdout",
     "output_type": "stream",
     "text": [
      "Number athletes in 1976: 10502\n"
     ]
    }
   ],
   "source": [
    "athletes_1976 = [row for row in athletes if row[\"Year\"] == \"1976\"]\n",
    "print(\"Number athletes in 1976:\", len(athletes_1976))"
   ],
   "metadata": {
    "collapsed": false
   }
  },
  {
   "cell_type": "code",
   "execution_count": 5,
   "outputs": [],
   "source": [
    "# We used this function for our purposes (to filter the year column)\n",
    "# Author Prof. Samer El Zant\n",
    "def is_valid_year(string):\n",
    "    try:\n",
    "        year = int(string)\n",
    "    except ValueError:\n",
    "        return False\n",
    "    else:\n",
    "        return year"
   ],
   "metadata": {
    "collapsed": false
   }
  },
  {
   "cell_type": "code",
   "execution_count": 6,
   "outputs": [
    {
     "name": "stdout",
     "output_type": "stream",
     "text": [
      "1896\n"
     ]
    }
   ],
   "source": [
    "release_years = [int(row['Year']) for row in athletes if is_valid_year(row['Year'])]\n",
    "print(min(release_years)) # since which year our records begin"
   ],
   "metadata": {
    "collapsed": false
   }
  },
  {
   "cell_type": "code",
   "execution_count": 46,
   "outputs": [
    {
     "name": "stdout",
     "output_type": "stream",
     "text": [
      "2016\n"
     ]
    }
   ],
   "source": [
    "print(max(release_years)) # since which year our records begin"
   ],
   "metadata": {
    "collapsed": false
   }
  },
  {
   "cell_type": "markdown",
   "source": [
    "We used Collection library for counting our data:"
   ],
   "metadata": {
    "collapsed": false
   }
  },
  {
   "cell_type": "code",
   "execution_count": 7,
   "outputs": [
    {
     "data": {
      "text/plain": "OrderedDict([('1896', 380),\n             ('1900', 1936),\n             ('1904', 1301),\n             ('1906', 1733),\n             ('1908', 3101),\n             ('1912', 4040),\n             ('1920', 4292),\n             ('1924', 5693),\n             ('1928', 5574),\n             ('1932', 3321),\n             ('1936', 7401),\n             ('1948', 7480),\n             ('1952', 9358),\n             ('1956', 6434),\n             ('1960', 9235),\n             ('1964', 9480),\n             ('1968', 10479),\n             ('1972', 11959),\n             ('1976', 10502),\n             ('1980', 8937),\n             ('1984', 11588),\n             ('1988', 14676),\n             ('1992', 16413),\n             ('1994', 3160),\n             ('1996', 13780),\n             ('1998', 3605),\n             ('2000', 13821),\n             ('2002', 4109),\n             ('2004', 13443),\n             ('2006', 4382),\n             ('2008', 13602),\n             ('2010', 4402),\n             ('2012', 12920),\n             ('2014', 4891),\n             ('2016', 13688)])"
     },
     "execution_count": 7,
     "metadata": {},
     "output_type": "execute_result"
    }
   ],
   "source": [
    "from collections import Counter, OrderedDict\n",
    "\n",
    "athletes_year = Counter(el['Year'] for el in athletes) # for counting the years\n",
    "athletes_year = dict(athletes_year) # changing type\n",
    "athletes_year = OrderedDict(sorted(athletes_year.items())) # sorting\n",
    "athletes_year"
   ],
   "metadata": {
    "collapsed": false
   }
  },
  {
   "cell_type": "markdown",
   "source": [
    "By this result, we can see some gaps in years: 1912-1920 were no games because there was a world war first during 1914-1918, and also in the period of 1936-1948, also because of war (WW2) during 1939-1945."
   ],
   "metadata": {
    "collapsed": false
   }
  },
  {
   "cell_type": "markdown",
   "source": [
    "Now we are introducing our second dataset with regions. To mention, it has one common column with our first dataset, NOC column:"
   ],
   "metadata": {
    "collapsed": false
   }
  },
  {
   "cell_type": "code",
   "execution_count": 8,
   "outputs": [
    {
     "name": "stdout",
     "output_type": "stream",
     "text": [
      "['NOC', 'region', 'notes']\n",
      "Number regions: 230\n"
     ]
    }
   ],
   "source": [
    "with(open('noc_regions.csv', 'r')) as csvfile:\n",
    "    reader = csv.DictReader(csvfile)\n",
    "    print(reader.fieldnames)\n",
    "    regions = []\n",
    "    for row in reader:\n",
    "        regions.append(row)\n",
    "    print(\"Number regions:\", len(regions))"
   ],
   "metadata": {
    "collapsed": false
   }
  },
  {
   "cell_type": "markdown",
   "source": [
    "Now we are joining the Regions dataset to our main dataset:"
   ],
   "metadata": {
    "collapsed": false
   }
  },
  {
   "cell_type": "code",
   "execution_count": 9,
   "outputs": [
    {
     "data": {
      "text/plain": "{'ID': '1',\n 'Name': 'A Dijiang',\n 'Sex': 'M',\n 'Age': '24',\n 'Height': '180',\n 'Weight': '80',\n 'Team': 'China',\n 'NOC': 'CHN',\n 'Games': '1992 Summer',\n 'Year': '1992',\n 'Season': 'Summer',\n 'City': 'Barcelona',\n 'Sport': 'Basketball',\n 'Event': \"Basketball Men's Basketball\",\n 'Medal': 'NA',\n 'region': 'China',\n 'notes': ''}"
     },
     "execution_count": 9,
     "metadata": {},
     "output_type": "execute_result"
    }
   ],
   "source": [
    "noc_dict = {reg['NOC']:reg for reg in regions}\n",
    "\n",
    "merged = []\n",
    "for ath in athletes:\n",
    "    d = dict(**ath)\n",
    "    d.update(noc_dict.get(ath['NOC'], {}))\n",
    "    merged.append(d)\n",
    "\n",
    "merged[0]"
   ],
   "metadata": {
    "collapsed": false
   }
  },
  {
   "cell_type": "markdown",
   "source": [
    "Now we are doing the data analysis."
   ],
   "metadata": {
    "collapsed": false
   }
  },
  {
   "cell_type": "markdown",
   "source": [
    "For counting the total amount of medals:"
   ],
   "metadata": {
    "collapsed": false
   }
  },
  {
   "cell_type": "code",
   "execution_count": 10,
   "outputs": [
    {
     "name": "stdout",
     "output_type": "stream",
     "text": [
      "The total of the medals:  39783\n"
     ]
    }
   ],
   "source": [
    "medals = 0\n",
    "for row in athletes:\n",
    "  if row['Medal'] != \"NA\":\n",
    "    medals+=1\n",
    "print(\"The total of the medals: \", medals)"
   ],
   "metadata": {
    "collapsed": false
   }
  },
  {
   "cell_type": "markdown",
   "source": [
    "Now amount of medals of each type:"
   ],
   "metadata": {
    "collapsed": false
   }
  },
  {
   "cell_type": "code",
   "execution_count": 18,
   "outputs": [
    {
     "data": {
      "text/plain": "OrderedDict([('Bronze', 13295),\n             ('Gold', 13372),\n             ('NA', 231333),\n             ('Silver', 13116)])"
     },
     "execution_count": 18,
     "metadata": {},
     "output_type": "execute_result"
    }
   ],
   "source": [
    "# We reduced the code with Counter to one line.\n",
    "OrderedDict(sorted(dict(Counter(t['Medal'] for t in merged)).items()))"
   ],
   "metadata": {
    "collapsed": false
   }
  },
  {
   "cell_type": "code",
   "execution_count": 48,
   "outputs": [
    {
     "data": {
      "text/plain": "OrderedDict([('Bronze', 25), ('Gold', 7), ('NA', 239), ('Silver', 12)])"
     },
     "execution_count": 48,
     "metadata": {},
     "output_type": "execute_result"
    }
   ],
   "source": [
    "OrderedDict(sorted(dict(Counter(t['Medal'] for t in merged if t['NOC']== 'AZE')).items()))"
   ],
   "metadata": {
    "collapsed": false
   }
  },
  {
   "cell_type": "markdown",
   "source": [
    "For counting the amount of athletes participated in each season."
   ],
   "metadata": {
    "collapsed": false
   }
  },
  {
   "cell_type": "code",
   "execution_count": 12,
   "outputs": [
    {
     "data": {
      "text/plain": "OrderedDict([('Summer', 222552), ('Winter', 48564)])"
     },
     "execution_count": 12,
     "metadata": {},
     "output_type": "execute_result"
    }
   ],
   "source": [
    "OrderedDict(sorted(dict(Counter(t['Season'] for t in merged)).items()))"
   ],
   "metadata": {
    "collapsed": false
   }
  },
  {
   "cell_type": "markdown",
   "source": [
    "For counting how many male and female athletes participated in each season."
   ],
   "metadata": {
    "collapsed": false
   }
  },
  {
   "cell_type": "code",
   "execution_count": 13,
   "outputs": [
    {
     "name": "stdout",
     "output_type": "stream",
     "text": [
      "OrderedDict([('F', 74522), ('M', 196594)])\n"
     ]
    }
   ],
   "source": [
    "print(OrderedDict(sorted(dict(Counter(t['Sex'] for t in merged)).items())))"
   ],
   "metadata": {
    "collapsed": false
   }
  },
  {
   "cell_type": "code",
   "execution_count": 14,
   "outputs": [
    {
     "name": "stdout",
     "output_type": "stream",
     "text": [
      "The number of males in summer game:  163109\n",
      "The number of males in winter game:  33485\n",
      "The number of females in summer game:  59443\n",
      "The number of females in winter game:  15079\n"
     ]
    }
   ],
   "source": [
    "m_s = 0 # male in summer\n",
    "m_w = 0 # male in winter\n",
    "f_s = 0 # female in summer\n",
    "f_w = 0 # female in winter\n",
    "for row in athletes:\n",
    "  if row[\"Sex\"]==\"M\" and row[\"Season\"] == \"Summer\":\n",
    "    m_s+=1\n",
    "  if row[\"Sex\"]==\"M\" and row[\"Season\"] == \"Winter\":\n",
    "    m_w+=1\n",
    "  if row[\"Sex\"]==\"F\" and row[\"Season\"] == \"Summer\":\n",
    "    f_s+=1\n",
    "  if row[\"Sex\"]==\"F\" and row[\"Season\"] == \"Winter\":\n",
    "    f_w+=1\n",
    "\n",
    "print(\"The number of males in summer game: \", m_s)\n",
    "print(\"The number of males in winter game: \", m_w)\n",
    "print(\"The number of females in summer game: \", f_s)\n",
    "print(\"The number of females in winter game: \", f_w)"
   ],
   "metadata": {
    "collapsed": false
   }
  },
  {
   "cell_type": "markdown",
   "source": [
    "Amount of athletes of each region in descending order:"
   ],
   "metadata": {
    "collapsed": false
   }
  },
  {
   "cell_type": "code",
   "execution_count": 29,
   "outputs": [
    {
     "data": {
      "text/plain": "OrderedDict([('USA', 18853),\n             ('FRA', 12758),\n             ('GBR', 12256),\n             ('ITA', 10715),\n             ('GER', 9830),\n             ('CAN', 9733),\n             ('JPN', 8444),\n             ('SWE', 8339),\n             ('AUS', 7638),\n             ('HUN', 6607),\n             ('POL', 6207),\n             ('SUI', 6150),\n             ('NED', 5839),\n             ('URS', 5685),\n             ('FIN', 5467),\n             ('ESP', 5313),\n             ('RUS', 5143),\n             ('CHN', 5141),\n             ('AUT', 5141),\n             ('NOR', 4960),\n             ('KOR', 4464),\n             ('ROU', 4405),\n             ('TCH', 4404),\n             ('BEL', 3857),\n             ('BRA', 3848),\n             ('DEN', 3570),\n             ('BUL', 3530),\n             ('FRG', 3315),\n             ('ARG', 3297),\n             ('GRE', 3181),\n             ('MEX', 2880),\n             ('GDR', 2645),\n             ('YUG', 2583),\n             ('UKR', 2559),\n             ('CUB', 2479),\n             ('NZL', 2342),\n             ('CZE', 1874),\n             ('BLR', 1787),\n             ('RSA', 1711),\n             ('EGY', 1622),\n             ('POR', 1522),\n             ('KAZ', 1429),\n             ('IND', 1408),\n             ('TUR', 1356),\n             ('IRL', 1325),\n             ('SLO', 1111),\n             ('TPE', 1097),\n             ('COL', 1069),\n             ('SVK', 1055),\n             ('LUX', 996),\n             ('LAT', 951),\n             ('PUR', 927),\n             ('CHI', 925),\n             ('VEN', 925),\n             ('NGR', 882),\n             ('EST', 876),\n             ('CRO', 876),\n             ('EUN', 864),\n             ('JAM', 848),\n             ('PRK', 807),\n             ('IRI', 789),\n             ('KEN', 772),\n             ('THA', 747),\n             ('PHI', 694),\n             ('HKG', 685),\n             ('MAR', 682),\n             ('ISR', 665),\n             ('LTU', 654),\n             ('ISL', 627),\n             ('URU', 576),\n             ('PAK', 562),\n             ('TUN', 561),\n             ('ALG', 551),\n             ('MGL', 550),\n             ('PER', 532),\n             ('MAS', 530),\n             ('UZB', 495),\n             ('GUA', 425),\n             ('INA', 412),\n             ('SEN', 393),\n             ('SRB', 392),\n             ('ETH', 378),\n             ('TTO', 375),\n             ('BAH', 374),\n             ('LIE', 369),\n             ('GHA', 359),\n             ('SGP', 349),\n             ('LIB', 329),\n             ('SCG', 321),\n             ('CMR', 312),\n             ('ZIM', 311),\n             ('ISV', 294),\n             ('GEO', 286),\n             ('KUW', 284),\n             ('AZE', 283),\n             ('ECU', 277),\n             ('DOM', 277),\n             ('ANG', 267),\n             ('CRC', 264),\n             ('UGA', 260),\n             ('MDA', 234),\n             ('IRQ', 232),\n             ('FIJ', 232),\n             ('KSA', 230),\n             ('KGZ', 227),\n             ('CYP', 225),\n             ('ARM', 221),\n             ('BAR', 219),\n             ('ESA', 218),\n             ('BER', 212),\n             ('MON', 197),\n             ('CIV', 193),\n             ('QAT', 192),\n             ('HON', 189),\n             ('ZAM', 183),\n             ('SMR', 181),\n             ('AND', 169),\n             ('TAN', 161),\n             ('SYR', 156),\n             ('VIE', 154),\n             ('BOH', 153),\n             ('BOL', 152),\n             ('SRI', 146),\n             ('UAE', 144),\n             ('MRI', 144),\n             ('PAN', 139),\n             ('PAR', 135),\n             ('BIH', 134),\n             ('ANT', 133),\n             ('NCA', 129),\n             ('BRN', 126),\n             ('AFG', 126),\n             ('UAR', 123),\n             ('MAD', 119),\n             ('MLT', 118),\n             ('SLE', 114),\n             ('GUM', 112),\n             ('SEY', 111),\n             ('MYA', 111),\n             ('PNG', 108),\n             ('SUD', 107),\n             ('HAI', 106),\n             ('CGO', 105),\n             ('GUY', 102),\n             ('NEP', 94),\n             ('IOA', 94),\n             ('MNE', 94),\n             ('COD', 93),\n             ('SAA', 93),\n             ('MLI', 92),\n             ('BOT', 90),\n             ('MAW', 87),\n             ('ANZ', 86),\n             ('LBA', 84),\n             ('MKD', 84),\n             ('CAY', 83),\n             ('JOR', 80),\n             ('AHO', 79),\n             ('MOZ', 78),\n             ('NAM', 77),\n             ('BIZ', 76),\n             ('LBR', 74),\n             ('GUI', 73),\n             ('BEN', 71),\n             ('TJK', 70),\n             ('ALB', 70),\n             ('SUR', 69),\n             ('CAF', 67),\n             ('SWZ', 67),\n             ('OMA', 66),\n             ('LES', 66),\n             ('SAM', 63),\n             ('GAB', 63),\n             ('CAM', 63),\n             ('VNM', 62),\n             ('TOG', 59),\n             ('RWA', 56),\n             ('GAM', 56),\n             ('BAN', 55),\n             ('TKM', 54),\n             ('LAO', 54),\n             ('GRN', 54),\n             ('MDV', 49),\n             ('NIG', 47),\n             ('TGA', 46),\n             ('IVB', 45),\n             ('MAL', 45),\n             ('BUR', 44),\n             ('ERI', 43),\n             ('SKN', 42),\n             ('VIN', 42),\n             ('ARU', 42),\n             ('CHA', 41),\n             ('GEQ', 40),\n             ('COK', 40),\n             ('BDI', 39),\n             ('DJI', 38),\n             ('ASA', 37),\n             ('BHU', 36),\n             ('VAN', 35),\n             ('SOM', 32),\n             ('YEM', 32),\n             ('MTN', 29),\n             ('LCA', 28),\n             ('SOL', 27),\n             ('FSM', 26),\n             ('PLW', 25),\n             ('PLE', 21),\n             ('GBS', 21),\n             ('WIF', 20),\n             ('COM', 19),\n             ('DMA', 19),\n             ('CPV', 18),\n             ('STP', 15),\n             ('MHL', 14),\n             ('NRU', 13),\n             ('ROT', 12),\n             ('RHO', 12),\n             ('YAR', 11),\n             ('CRT', 11),\n             ('KIR', 11),\n             ('BRU', 10),\n             ('TLS', 9),\n             ('KOS', 8),\n             ('TUV', 7),\n             ('YMD', 5),\n             ('SSD', 3),\n             ('NBO', 2),\n             ('UNK', 2),\n             ('NFL', 1)])"
     },
     "execution_count": 29,
     "metadata": {},
     "output_type": "execute_result"
    }
   ],
   "source": [
    "OrderedDict(sorted(dict(Counter(t['NOC'] for t in merged)).items(), key=lambda x: x[1], reverse=True))"
   ],
   "metadata": {
    "collapsed": false
   }
  },
  {
   "cell_type": "markdown",
   "source": [
    "Amount of participants from Azerbaijan:"
   ],
   "metadata": {
    "collapsed": false
   }
  },
  {
   "cell_type": "code",
   "execution_count": 47,
   "outputs": [
    {
     "data": {
      "text/plain": "OrderedDict([('AZE', 283)])"
     },
     "execution_count": 47,
     "metadata": {},
     "output_type": "execute_result"
    }
   ],
   "source": [
    "OrderedDict(sorted(dict(Counter(t['NOC'] for t in merged if t['NOC']== 'AZE')).items(), key=lambda x: x[1], reverse=True))"
   ],
   "metadata": {
    "collapsed": false
   }
  },
  {
   "cell_type": "markdown",
   "source": [
    "The first year when Azerbaijan participated in OG:"
   ],
   "metadata": {
    "collapsed": false
   }
  },
  {
   "cell_type": "code",
   "execution_count": 49,
   "outputs": [
    {
     "name": "stdout",
     "output_type": "stream",
     "text": [
      "1996\n"
     ]
    }
   ],
   "source": [
    "release_years_az = [int(row['Year']) for row in athletes if is_valid_year(row['Year']) and row['NOC'] == \"AZE\"]\n",
    "print(min(release_years_az)) # since which year our records begin"
   ],
   "metadata": {
    "collapsed": false
   }
  },
  {
   "cell_type": "markdown",
   "source": [
    "Amount of medals of each type won by females:"
   ],
   "metadata": {
    "collapsed": false
   }
  },
  {
   "cell_type": "code",
   "execution_count": 22,
   "outputs": [
    {
     "data": {
      "text/plain": "OrderedDict([('Bronze', 3771),\n             ('Gold', 3747),\n             ('NA', 63269),\n             ('Silver', 3735)])"
     },
     "execution_count": 22,
     "metadata": {},
     "output_type": "execute_result"
    }
   ],
   "source": [
    "OrderedDict(sorted(dict(Counter(t['Medal'] for t in merged if t['Sex'] == 'F')).items()))"
   ],
   "metadata": {
    "collapsed": false
   }
  },
  {
   "cell_type": "markdown",
   "source": [
    "Amount of medals of each type won by males:"
   ],
   "metadata": {
    "collapsed": false
   }
  },
  {
   "cell_type": "code",
   "execution_count": 23,
   "outputs": [
    {
     "data": {
      "text/plain": "OrderedDict([('Bronze', 9524),\n             ('Gold', 9625),\n             ('NA', 168064),\n             ('Silver', 9381)])"
     },
     "execution_count": 23,
     "metadata": {},
     "output_type": "execute_result"
    }
   ],
   "source": [
    "OrderedDict(sorted(dict(Counter(t['Medal'] for t in merged if t['Sex'] == 'M')).items()))"
   ],
   "metadata": {
    "collapsed": false
   }
  },
  {
   "cell_type": "markdown",
   "source": [
    "Best three countries by amount of gold medals for each region:"
   ],
   "metadata": {
    "collapsed": false
   }
  },
  {
   "cell_type": "code",
   "execution_count": 44,
   "outputs": [
    {
     "data": {
      "text/plain": "[('USA', 2638), ('URS', 1082), ('GER', 745)]"
     },
     "execution_count": 44,
     "metadata": {},
     "output_type": "execute_result"
    }
   ],
   "source": [
    "list(OrderedDict(sorted(dict(Counter(t['NOC'] for t in merged if t['Medal'] == 'Gold')).items(),key=lambda x: x[1], reverse=True)).items())[0:3]"
   ],
   "metadata": {
    "collapsed": false
   }
  },
  {
   "cell_type": "code",
   "execution_count": 50,
   "outputs": [
    {
     "data": {
      "text/plain": "[('USA', 2638),\n ('URS', 1082),\n ('GER', 745),\n ('GBR', 678),\n ('ITA', 575),\n ('FRA', 501),\n ('SWE', 479),\n ('CAN', 463),\n ('HUN', 432),\n ('GDR', 397),\n ('RUS', 390),\n ('NOR', 378),\n ('CHN', 350),\n ('AUS', 348),\n ('NED', 287),\n ('JPN', 247),\n ('KOR', 221),\n ('FIN', 198),\n ('DEN', 179),\n ('SUI', 175),\n ('CUB', 164),\n ('ROU', 161),\n ('FRG', 159),\n ('IND', 138),\n ('YUG', 130),\n ('EUN', 127),\n ('POL', 117),\n ('ESP', 110),\n ('BRA', 109),\n ('AUT', 108),\n ('BEL', 98),\n ('ARG', 91),\n ('NZL', 90),\n ('TCH', 81),\n ('GRE', 62),\n ('CRO', 58),\n ('BUL', 54),\n ('UKR', 47),\n ('PAK', 42),\n ('CZE', 42),\n ('TUR', 40),\n ('JAM', 38),\n ('KEN', 34),\n ('RSA', 32),\n ('URU', 31),\n ('MEX', 30),\n ('BLR', 24),\n ('NGR', 23),\n ('ETH', 22),\n ('CMR', 20),\n ('KAZ', 20),\n ('ANZ', 20),\n ('IRI', 18),\n ('ZIM', 17),\n ('PRK', 16),\n ('SRB', 15),\n ('SVK', 15),\n ('BAH', 14),\n ('FIJ', 13),\n ('EST', 13),\n ('SCG', 12),\n ('INA', 11),\n ('UZB', 10),\n ('THA', 9),\n ('IRL', 9),\n ('GEO', 8),\n ('SLO', 8),\n ('AZE', 7),\n ('TTO', 7),\n ('EGY', 7),\n ('LTU', 6),\n ('MAR', 6),\n ('ALG', 5),\n ('COL', 5),\n ('LUX', 4),\n ('POR', 4),\n ('TPE', 3),\n ('DOM', 3),\n ('TUN', 3),\n ('CHI', 3),\n ('LAT', 3),\n ('UGA', 2),\n ('ARM', 2),\n ('MGL', 2),\n ('VEN', 2),\n ('LIE', 2),\n ('JOR', 1),\n ('IOA', 1),\n ('UAE', 1),\n ('NEP', 1),\n ('CIV', 1),\n ('ISR', 1),\n ('HAI', 1),\n ('VIE', 1),\n ('GRN', 1),\n ('BRN', 1),\n ('KOS', 1),\n ('HKG', 1),\n ('MOZ', 1),\n ('TJK', 1),\n ('SUR', 1),\n ('BDI', 1),\n ('ECU', 1),\n ('CRC', 1),\n ('PUR', 1),\n ('PAN', 1),\n ('SGP', 1),\n ('SYR', 1),\n ('PER', 1)]"
     },
     "execution_count": 50,
     "metadata": {},
     "output_type": "execute_result"
    }
   ],
   "source": [
    "list(OrderedDict(sorted(dict(Counter(t['NOC'] for t in merged if t['Medal'] == 'Gold')).items(),key=lambda x: x[1], reverse=True)).items())"
   ],
   "metadata": {
    "collapsed": false
   }
  },
  {
   "cell_type": "markdown",
   "source": [
    "Best three countries by amount of silver medals for each region:"
   ],
   "metadata": {
    "collapsed": false
   }
  },
  {
   "cell_type": "code",
   "execution_count": 45,
   "outputs": [
    {
     "data": {
      "text/plain": "[('USA', 1641), ('GBR', 739), ('URS', 732)]"
     },
     "execution_count": 45,
     "metadata": {},
     "output_type": "execute_result"
    }
   ],
   "source": [
    "list(OrderedDict(sorted(dict(Counter(t['NOC'] for t in merged if t['Medal'] == 'Silver')).items(),key=lambda x: x[1], reverse=True)).items())[0:3]"
   ],
   "metadata": {
    "collapsed": false
   }
  },
  {
   "cell_type": "markdown",
   "source": [
    "Best three countries by amount of bronze medals for each region:"
   ],
   "metadata": {
    "collapsed": false
   }
  },
  {
   "cell_type": "code",
   "execution_count": 43,
   "outputs": [
    {
     "data": {
      "text/plain": "[('USA', 1358), ('GER', 746), ('URS', 689)]"
     },
     "execution_count": 43,
     "metadata": {},
     "output_type": "execute_result"
    }
   ],
   "source": [
    "list(OrderedDict(sorted(dict(Counter(t['NOC'] for t in merged if t['Medal'] == 'Bronze')).items(),key=lambda x: x[1], reverse=True)).items())[0:3]"
   ],
   "metadata": {
    "collapsed": false
   }
  },
  {
   "cell_type": "markdown",
   "source": [
    "Amount of medals obtained by each country:"
   ],
   "metadata": {
    "collapsed": false
   }
  },
  {
   "cell_type": "code",
   "execution_count": 30,
   "outputs": [
    {
     "data": {
      "text/plain": "OrderedDict([('USA', 5637),\n             ('URS', 2503),\n             ('GER', 2165),\n             ('GBR', 2068),\n             ('FRA', 1777),\n             ('ITA', 1637),\n             ('SWE', 1536),\n             ('CAN', 1352),\n             ('AUS', 1320),\n             ('RUS', 1165),\n             ('HUN', 1135),\n             ('NED', 1040),\n             ('NOR', 1033),\n             ('GDR', 1005),\n             ('CHN', 989),\n             ('JPN', 913),\n             ('FIN', 900),\n             ('SUI', 691),\n             ('ROU', 653),\n             ('KOR', 638),\n             ('DEN', 597),\n             ('FRG', 586),\n             ('POL', 565),\n             ('ESP', 489),\n             ('TCH', 488),\n             ('BRA', 475),\n             ('BEL', 468),\n             ('AUT', 450),\n             ('CUB', 409),\n             ('YUG', 390),\n             ('BUL', 342),\n             ('EUN', 279),\n             ('ARG', 274),\n             ('GRE', 255),\n             ('NZL', 228),\n             ('UKR', 199),\n             ('IND', 197),\n             ('JAM', 157),\n             ('CRO', 149),\n             ('CZE', 144),\n             ('BLR', 139),\n             ('RSA', 131),\n             ('PAK', 121),\n             ('MEX', 110),\n             ('KEN', 106),\n             ('NGR', 99),\n             ('TUR', 95),\n             ('SRB', 85),\n             ('KAZ', 77),\n             ('IRI', 68),\n             ('PRK', 67),\n             ('SCG', 64),\n             ('URU', 63),\n             ('LTU', 61),\n             ('ETH', 53),\n             ('EST', 50),\n             ('TPE', 49),\n             ('SLO', 48),\n             ('SVK', 47),\n             ('AZE', 44),\n             ('INA', 41),\n             ('POR', 41),\n             ('BAH', 40),\n             ('IRL', 35),\n             ('LAT', 35),\n             ('UZB', 34),\n             ('CHI', 32),\n             ('TTO', 32),\n             ('GEO', 32),\n             ('THA', 30),\n             ('ANZ', 29),\n             ('COL', 28),\n             ('EGY', 27),\n             ('MGL', 26),\n             ('GHA', 23),\n             ('MAR', 23),\n             ('CMR', 22),\n             ('ZIM', 22),\n             ('ALG', 17),\n             ('ISL', 17),\n             ('PAR', 17),\n             ('ARM', 16),\n             ('MAS', 16),\n             ('VEN', 15),\n             ('PER', 15),\n             ('MNE', 14),\n             ('TUN', 13),\n             ('FIJ', 13),\n             ('BOH', 12),\n             ('PHI', 10),\n             ('PUR', 9),\n             ('ISR', 9),\n             ('SGP', 9),\n             ('LIE', 9),\n             ('LUX', 8),\n             ('MDA', 8),\n             ('UGA', 7),\n             ('HAI', 7),\n             ('DOM', 7),\n             ('KSA', 6),\n             ('QAT', 5),\n             ('IOA', 5),\n             ('WIF', 5),\n             ('TJK', 4),\n             ('LIB', 4),\n             ('NAM', 4),\n             ('VIE', 4),\n             ('HKG', 4),\n             ('CRC', 4),\n             ('SYR', 3),\n             ('KGZ', 3),\n             ('CIV', 3),\n             ('BRN', 3),\n             ('PAN', 3),\n             ('KUW', 2),\n             ('UAE', 2),\n             ('NIG', 2),\n             ('TAN', 2),\n             ('UAR', 2),\n             ('GRN', 2),\n             ('SRI', 2),\n             ('ZAM', 2),\n             ('MOZ', 2),\n             ('SUR', 2),\n             ('AFG', 2),\n             ('BDI', 2),\n             ('ECU', 2),\n             ('JOR', 1),\n             ('BOT', 1),\n             ('GUY', 1),\n             ('IRQ', 1),\n             ('GUA', 1),\n             ('AHO', 1),\n             ('TOG', 1),\n             ('NEP', 1),\n             ('SEN', 1),\n             ('BER', 1),\n             ('ISV', 1),\n             ('MKD', 1),\n             ('SUD', 1),\n             ('MRI', 1),\n             ('KOS', 1),\n             ('CYP', 1),\n             ('MON', 1),\n             ('GAB', 1),\n             ('DJI', 1),\n             ('ERI', 1),\n             ('BAR', 1),\n             ('TGA', 1)])"
     },
     "execution_count": 30,
     "metadata": {},
     "output_type": "execute_result"
    }
   ],
   "source": [
    "OrderedDict(sorted(dict(Counter(t['NOC'] for t in merged if t['Medal'] != 'NA')).items(), key=lambda x: x[1], reverse=True))"
   ],
   "metadata": {
    "collapsed": false
   }
  }
 ],
 "metadata": {
  "kernelspec": {
   "display_name": "Python 3",
   "language": "python",
   "name": "python3"
  },
  "language_info": {
   "codemirror_mode": {
    "name": "ipython",
    "version": 2
   },
   "file_extension": ".py",
   "mimetype": "text/x-python",
   "name": "python",
   "nbconvert_exporter": "python",
   "pygments_lexer": "ipython2",
   "version": "2.7.6"
  }
 },
 "nbformat": 4,
 "nbformat_minor": 0
}
